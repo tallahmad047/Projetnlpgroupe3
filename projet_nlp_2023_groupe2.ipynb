{
  "cells": [
    {
      "cell_type": "markdown",
      "source": [
        "Exportation des donnees"
      ],
      "metadata": {
        "nteract": {
          "transient": {
            "deleting": false
          }
        }
      }
    },
    {
      "cell_type": "markdown",
      "source": [
        "Prérequis\n",
        "If you are using an Azure Machine Learning Notebook VM. you are all set. Otherwise, make sure you go through the configuration Notebook first if you haven't.\n"
      ],
      "metadata": {
        "nteract": {
          "transient": {
            "deleting": false
          }
        }
      }
    },
    {
      "cell_type": "code",
      "source": [
        "#Check core SDK version number\n",
        "import azureml.core\n",
        "\n",
        "print(\"SDK version\", azureml.core.VERSION)"
      ],
      "outputs": [
        {
          "output_type": "stream",
          "name": "stdout",
          "text": "SDK version 1.51.0\n"
        }
      ],
      "execution_count": 1,
      "metadata": {
        "jupyter": {
          "source_hidden": false,
          "outputs_hidden": false
        },
        "nteract": {
          "transient": {
            "deleting": false
          }
        },
        "gather": {
          "logged": 1701705545600
        }
      }
    },
    {
      "cell_type": "code",
      "source": [
        "!pip install azure-ai-ml"
      ],
      "outputs": [
        {
          "output_type": "stream",
          "name": "stdout",
          "text": "Collecting azure-ai-ml\n  Downloading azure_ai_ml-1.12.1-py3-none-any.whl (8.3 MB)\n\u001b[K     |████████████████████████████████| 8.3 MB 5.7 MB/s eta 0:00:01\n\u001b[?25hRequirement already satisfied: isodate in /anaconda/envs/azureml_py38/lib/python3.8/site-packages (from azure-ai-ml) (0.6.1)\nCollecting azure-storage-file-datalake<13.0.0\n  Downloading azure_storage_file_datalake-12.14.0-py3-none-any.whl (251 kB)\n\u001b[K     |████████████████████████████████| 251 kB 74.1 MB/s eta 0:00:01\n\u001b[?25hRequirement already satisfied: colorama<0.5.0 in /anaconda/envs/azureml_py38/lib/python3.8/site-packages (from azure-ai-ml) (0.4.6)\nRequirement already satisfied: azure-storage-blob<13.0.0,>=12.10.0 in /anaconda/envs/azureml_py38/lib/python3.8/site-packages (from azure-ai-ml) (12.13.0)\nRequirement already satisfied: msrest>=0.6.18 in /anaconda/envs/azureml_py38/lib/python3.8/site-packages (from azure-ai-ml) (0.7.1)\nCollecting pydash<7.0.6,>=6.0.0\n  Downloading pydash-7.0.5-py3-none-any.whl (109 kB)\n\u001b[K     |████████████████████████████████| 109 kB 78.8 MB/s eta 0:00:01\n\u001b[?25hRequirement already satisfied: opencensus-ext-azure<2.0.0 in /anaconda/envs/azureml_py38/lib/python3.8/site-packages (from azure-ai-ml) (1.1.9)\nRequirement already satisfied: pyyaml<7.0.0,>=5.1.0 in /anaconda/envs/azureml_py38/lib/python3.8/site-packages (from azure-ai-ml) (6.0)\nCollecting azure-storage-file-share<13.0.0\n  Downloading azure_storage_file_share-12.15.0-py3-none-any.whl (267 kB)\n\u001b[K     |████████████████████████████████| 267 kB 81.4 MB/s eta 0:00:01\n\u001b[?25hCollecting marshmallow<4.0.0,>=3.5\n  Downloading marshmallow-3.20.1-py3-none-any.whl (49 kB)\n\u001b[K     |████████████████████████████████| 49 kB 7.7 MB/s  eta 0:00:01\n\u001b[?25hCollecting strictyaml<2.0.0\n  Downloading strictyaml-1.7.3-py3-none-any.whl (123 kB)\n\u001b[K     |████████████████████████████████| 123 kB 91.3 MB/s eta 0:00:01\n\u001b[?25hRequirement already satisfied: azure-core<2.0.0,>=1.23.0 in /anaconda/envs/azureml_py38/lib/python3.8/site-packages (from azure-ai-ml) (1.26.4)\nRequirement already satisfied: pyjwt<3.0.0 in /anaconda/envs/azureml_py38/lib/python3.8/site-packages (from azure-ai-ml) (2.4.0)\nRequirement already satisfied: azure-common<2.0.0,>=1.1 in /anaconda/envs/azureml_py38/lib/python3.8/site-packages (from azure-ai-ml) (1.1.28)\nRequirement already satisfied: tqdm<5.0.0 in /anaconda/envs/azureml_py38/lib/python3.8/site-packages (from azure-ai-ml) (4.65.0)\nRequirement already satisfied: azure-mgmt-core<2.0.0,>=1.3.0 in /anaconda/envs/azureml_py38/lib/python3.8/site-packages (from azure-ai-ml) (1.4.0)\nRequirement already satisfied: jsonschema<5.0.0,>=4.0.0 in /anaconda/envs/azureml_py38/lib/python3.8/site-packages (from azure-ai-ml) (4.17.3)\nRequirement already satisfied: typing-extensions<5.0.0 in /anaconda/envs/azureml_py38/lib/python3.8/site-packages (from azure-ai-ml) (4.6.0)\nRequirement already satisfied: six in /anaconda/envs/azureml_py38/lib/python3.8/site-packages (from isodate->azure-ai-ml) (1.16.0)\nRequirement already satisfied: cryptography>=2.1.4 in /anaconda/envs/azureml_py38/lib/python3.8/site-packages (from azure-storage-blob<13.0.0,>=12.10.0->azure-ai-ml) (38.0.4)\nRequirement already satisfied: requests-oauthlib>=0.5.0 in /anaconda/envs/azureml_py38/lib/python3.8/site-packages (from msrest>=0.6.18->azure-ai-ml) (1.3.1)\nRequirement already satisfied: requests~=2.16 in /anaconda/envs/azureml_py38/lib/python3.8/site-packages (from msrest>=0.6.18->azure-ai-ml) (2.31.0)\nRequirement already satisfied: certifi>=2017.4.17 in /anaconda/envs/azureml_py38/lib/python3.8/site-packages (from msrest>=0.6.18->azure-ai-ml) (2022.9.24)\nRequirement already satisfied: azure-identity<2.0.0,>=1.5.0 in /anaconda/envs/azureml_py38/lib/python3.8/site-packages (from opencensus-ext-azure<2.0.0->azure-ai-ml) (1.13.0)\nRequirement already satisfied: opencensus<1.0.0,>=0.11.2 in /anaconda/envs/azureml_py38/lib/python3.8/site-packages (from opencensus-ext-azure<2.0.0->azure-ai-ml) (0.11.2)\nRequirement already satisfied: psutil>=5.6.3 in /anaconda/envs/azureml_py38/lib/python3.8/site-packages (from opencensus-ext-azure<2.0.0->azure-ai-ml) (5.9.5)\nRequirement already satisfied: packaging>=17.0 in /anaconda/envs/azureml_py38/lib/python3.8/site-packages (from marshmallow<4.0.0,>=3.5->azure-ai-ml) (23.0)\nRequirement already satisfied: python-dateutil>=2.6.0 in /anaconda/envs/azureml_py38/lib/python3.8/site-packages (from strictyaml<2.0.0->azure-ai-ml) (2.8.2)\nRequirement already satisfied: pyrsistent!=0.17.0,!=0.17.1,!=0.17.2,>=0.14.0 in /anaconda/envs/azureml_py38/lib/python3.8/site-packages (from jsonschema<5.0.0,>=4.0.0->azure-ai-ml) (0.19.3)\nRequirement already satisfied: importlib-resources>=1.4.0; python_version < \"3.9\" in /anaconda/envs/azureml_py38/lib/python3.8/site-packages (from jsonschema<5.0.0,>=4.0.0->azure-ai-ml) (5.12.0)\nRequirement already satisfied: attrs>=17.4.0 in /anaconda/envs/azureml_py38/lib/python3.8/site-packages (from jsonschema<5.0.0,>=4.0.0->azure-ai-ml) (23.1.0)\nRequirement already satisfied: pkgutil-resolve-name>=1.3.10; python_version < \"3.9\" in /anaconda/envs/azureml_py38/lib/python3.8/site-packages (from jsonschema<5.0.0,>=4.0.0->azure-ai-ml) (1.3.10)\nRequirement already satisfied: cffi>=1.12 in /anaconda/envs/azureml_py38/lib/python3.8/site-packages (from cryptography>=2.1.4->azure-storage-blob<13.0.0,>=12.10.0->azure-ai-ml) (1.15.1)\nRequirement already satisfied: oauthlib>=3.0.0 in /anaconda/envs/azureml_py38/lib/python3.8/site-packages (from requests-oauthlib>=0.5.0->msrest>=0.6.18->azure-ai-ml) (3.2.2)\nRequirement already satisfied: urllib3<3,>=1.21.1 in /anaconda/envs/azureml_py38/lib/python3.8/site-packages (from requests~=2.16->msrest>=0.6.18->azure-ai-ml) (1.26.16)\nRequirement already satisfied: idna<4,>=2.5 in /anaconda/envs/azureml_py38/lib/python3.8/site-packages (from requests~=2.16->msrest>=0.6.18->azure-ai-ml) (3.4)\nRequirement already satisfied: charset-normalizer<4,>=2 in /anaconda/envs/azureml_py38/lib/python3.8/site-packages (from requests~=2.16->msrest>=0.6.18->azure-ai-ml) (3.1.0)\nRequirement already satisfied: msal<2.0.0,>=1.20.0 in /anaconda/envs/azureml_py38/lib/python3.8/site-packages (from azure-identity<2.0.0,>=1.5.0->opencensus-ext-azure<2.0.0->azure-ai-ml) (1.22.0)\nRequirement already satisfied: msal-extensions<2.0.0,>=0.3.0 in /anaconda/envs/azureml_py38/lib/python3.8/site-packages (from azure-identity<2.0.0,>=1.5.0->opencensus-ext-azure<2.0.0->azure-ai-ml) (1.0.0)\nRequirement already satisfied: google-api-core<3.0.0,>=1.0.0; python_version >= \"3.6\" in /anaconda/envs/azureml_py38/lib/python3.8/site-packages (from opencensus<1.0.0,>=0.11.2->opencensus-ext-azure<2.0.0->azure-ai-ml) (2.11.0)\nRequirement already satisfied: opencensus-context>=0.1.3 in /anaconda/envs/azureml_py38/lib/python3.8/site-packages (from opencensus<1.0.0,>=0.11.2->opencensus-ext-azure<2.0.0->azure-ai-ml) (0.1.3)\nRequirement already satisfied: zipp>=3.1.0; python_version < \"3.10\" in /anaconda/envs/azureml_py38/lib/python3.8/site-packages (from importlib-resources>=1.4.0; python_version < \"3.9\"->jsonschema<5.0.0,>=4.0.0->azure-ai-ml) (3.12.0)\nRequirement already satisfied: pycparser in /anaconda/envs/azureml_py38/lib/python3.8/site-packages (from cffi>=1.12->cryptography>=2.1.4->azure-storage-blob<13.0.0,>=12.10.0->azure-ai-ml) (2.21)\nRequirement already satisfied: portalocker<3,>=1.0; python_version >= \"3.5\" and platform_system != \"Windows\" in /anaconda/envs/azureml_py38/lib/python3.8/site-packages (from msal-extensions<2.0.0,>=0.3.0->azure-identity<2.0.0,>=1.5.0->opencensus-ext-azure<2.0.0->azure-ai-ml) (2.7.0)\nRequirement already satisfied: googleapis-common-protos<2.0dev,>=1.56.2 in /anaconda/envs/azureml_py38/lib/python3.8/site-packages (from google-api-core<3.0.0,>=1.0.0; python_version >= \"3.6\"->opencensus<1.0.0,>=0.11.2->opencensus-ext-azure<2.0.0->azure-ai-ml) (1.59.0)\nRequirement already satisfied: google-auth<3.0dev,>=2.14.1 in /anaconda/envs/azureml_py38/lib/python3.8/site-packages (from google-api-core<3.0.0,>=1.0.0; python_version >= \"3.6\"->opencensus<1.0.0,>=0.11.2->opencensus-ext-azure<2.0.0->azure-ai-ml) (2.18.1)\nRequirement already satisfied: protobuf!=3.20.0,!=3.20.1,!=4.21.0,!=4.21.1,!=4.21.2,!=4.21.3,!=4.21.4,!=4.21.5,<5.0.0dev,>=3.19.5 in /anaconda/envs/azureml_py38/lib/python3.8/site-packages (from google-api-core<3.0.0,>=1.0.0; python_version >= \"3.6\"->opencensus<1.0.0,>=0.11.2->opencensus-ext-azure<2.0.0->azure-ai-ml) (3.20.3)\nRequirement already satisfied: rsa<5,>=3.1.4; python_version >= \"3.6\" in /anaconda/envs/azureml_py38/lib/python3.8/site-packages (from google-auth<3.0dev,>=2.14.1->google-api-core<3.0.0,>=1.0.0; python_version >= \"3.6\"->opencensus<1.0.0,>=0.11.2->opencensus-ext-azure<2.0.0->azure-ai-ml) (4.9)\nRequirement already satisfied: pyasn1-modules>=0.2.1 in /anaconda/envs/azureml_py38/lib/python3.8/site-packages (from google-auth<3.0dev,>=2.14.1->google-api-core<3.0.0,>=1.0.0; python_version >= \"3.6\"->opencensus<1.0.0,>=0.11.2->opencensus-ext-azure<2.0.0->azure-ai-ml) (0.3.0)\nRequirement already satisfied: cachetools<6.0,>=2.0.0 in /anaconda/envs/azureml_py38/lib/python3.8/site-packages (from google-auth<3.0dev,>=2.14.1->google-api-core<3.0.0,>=1.0.0; python_version >= \"3.6\"->opencensus<1.0.0,>=0.11.2->opencensus-ext-azure<2.0.0->azure-ai-ml) (5.3.0)\nRequirement already satisfied: pyasn1>=0.1.3 in /anaconda/envs/azureml_py38/lib/python3.8/site-packages (from rsa<5,>=3.1.4; python_version >= \"3.6\"->google-auth<3.0dev,>=2.14.1->google-api-core<3.0.0,>=1.0.0; python_version >= \"3.6\"->opencensus<1.0.0,>=0.11.2->opencensus-ext-azure<2.0.0->azure-ai-ml) (0.5.0)\n\u001b[31mERROR: azure-storage-file-datalake 12.14.0 has requirement azure-core<2.0.0,>=1.28.0, but you'll have azure-core 1.26.4 which is incompatible.\u001b[0m\n\u001b[31mERROR: azure-storage-file-datalake 12.14.0 has requirement azure-storage-blob<13.0.0,>=12.19.0, but you'll have azure-storage-blob 12.13.0 which is incompatible.\u001b[0m\n\u001b[31mERROR: pydash 7.0.5 has requirement typing-extensions!=4.6.0,>=3.10, but you'll have typing-extensions 4.6.0 which is incompatible.\u001b[0m\n\u001b[31mERROR: azure-storage-file-share 12.15.0 has requirement azure-core<2.0.0,>=1.28.0, but you'll have azure-core 1.26.4 which is incompatible.\u001b[0m\nInstalling collected packages: azure-storage-file-datalake, pydash, azure-storage-file-share, marshmallow, strictyaml, azure-ai-ml\nSuccessfully installed azure-ai-ml-1.12.1 azure-storage-file-datalake-12.14.0 azure-storage-file-share-12.15.0 marshmallow-3.20.1 pydash-7.0.5 strictyaml-1.7.3\n"
        }
      ],
      "execution_count": 2,
      "metadata": {
        "jupyter": {
          "source_hidden": false,
          "outputs_hidden": false
        },
        "nteract": {
          "transient": {
            "deleting": false
          }
        }
      }
    },
    {
      "cell_type": "markdown",
      "source": [
        "## **Autre methode**"
      ],
      "metadata": {
        "nteract": {
          "transient": {
            "deleting": false
          }
        }
      }
    },
    {
      "cell_type": "code",
      "source": [
        "from azure.ai.ml import MLClient\n",
        "from azure.identity import DefaultAzureCredential\n",
        "\n",
        "# authenticate\n",
        "credential = DefaultAzureCredential()\n",
        "SUBSCRIPTION='2b635f7e-bdd3-49af-9129-9a0d8d7da646'\n",
        "RESOURCE_GROUP='groupe_ressource_groupe2'\n",
        "WS_NAME='workspace_nlp_groupe2'\n",
        "# Get a handle to the workspace\n",
        "ml_client = MLClient(\n",
        "    credential=credential,\n",
        "    subscription_id=SUBSCRIPTION,\n",
        "    resource_group_name=RESOURCE_GROUP,\n",
        "    workspace_name=WS_NAME,\n",
        ")"
      ],
      "outputs": [],
      "execution_count": 3,
      "metadata": {
        "jupyter": {
          "source_hidden": false,
          "outputs_hidden": false
        },
        "nteract": {
          "transient": {
            "deleting": false
          }
        },
        "gather": {
          "logged": 1701705562926
        }
      }
    },
    {
      "cell_type": "code",
      "source": [
        "# Verify that the handle works correctly.  \n",
        "# If you ge an error here, modify your SUBSCRIPTION, RESOURCE_GROUP, and WS_NAME in the previous cell.\n",
        "ws = ml_client.workspaces.get(WS_NAME)\n",
        "print(ws.location,\":\", ws.resource_group)"
      ],
      "outputs": [
        {
          "output_type": "stream",
          "name": "stdout",
          "text": "westus3 : groupe_ressource_groupe2\n"
        }
      ],
      "execution_count": 4,
      "metadata": {
        "jupyter": {
          "source_hidden": false,
          "outputs_hidden": false
        },
        "nteract": {
          "transient": {
            "deleting": false
          }
        },
        "gather": {
          "logged": 1701705564157
        }
      }
    },
    {
      "cell_type": "markdown",
      "source": [
        "Create a job environment"
      ],
      "metadata": {
        "nteract": {
          "transient": {
            "deleting": false
          }
        }
      }
    },
    {
      "cell_type": "code",
      "source": [
        "import os\n",
        "dependencies_dir = \"./dependencies\"\n",
        "os.makedirs(dependencies_dir, exist_ok=True)"
      ],
      "outputs": [],
      "execution_count": 5,
      "metadata": {
        "jupyter": {
          "source_hidden": false,
          "outputs_hidden": false
        },
        "nteract": {
          "transient": {
            "deleting": false
          }
        },
        "gather": {
          "logged": 1701705564940
        }
      }
    },
    {
      "cell_type": "code",
      "source": [
        "%%writefile {dependencies_dir}/conda.yaml\n",
        "name: model-env\n",
        "channels:\n",
        "  - conda-forge\n",
        "dependencies:\n",
        "  - python=3.8\n",
        "  - numpy=1.21.2\n",
        "  - pip=21.2.4\n",
        "  - scikit-learn=1.0.2\n",
        "  - scipy=1.7.1\n",
        "  - pandas>=1.1,<1.2\n",
        "  - pip:\n",
        "    - inference-schema[numpy-support]==1.3.0\n",
        "    - mlflow==2.8.0\n",
        "    - mlflow-skinny==2.8.0\n",
        "    - azureml-mlflow==1.51.0\n",
        "    - psutil>=5.8,<5.9\n",
        "    - tqdm>=4.59,<4.60\n",
        "    - ipykernel~=6.0\n",
        "    - matplotlib\n",
        "    - nltk==3.7\n",
        "    - imblearn\n",
        "    - seaborn"
      ],
      "outputs": [
        {
          "output_type": "stream",
          "name": "stdout",
          "text": "Writing ./dependencies/conda.yaml\n"
        }
      ],
      "execution_count": 6,
      "metadata": {
        "jupyter": {
          "source_hidden": false,
          "outputs_hidden": false
        },
        "nteract": {
          "transient": {
            "deleting": false
          }
        }
      }
    },
    {
      "cell_type": "code",
      "source": [
        "from azure.ai.ml.entities import Environment\n",
        "from sklearn.naive_bayes import GaussianNB\n",
        "\n",
        "custom_env_name = \"aml-scikit-learn\"\n",
        "\n",
        "custom_job_env = Environment(\n",
        "    name=custom_env_name,\n",
        "    description=\"Custom environment for Chichewa Defaults job\",\n",
        "    tags={\"scikit-learn\": \"1.0.2\"},\n",
        "    conda_file=os.path.join(dependencies_dir, \"conda.yaml\"),\n",
        "    image=\"mcr.microsoft.com/azureml/openmpi4.1.0-ubuntu20.04:latest\",\n",
        ")\n",
        "custom_job_env = ml_client.environments.create_or_update(custom_job_env)\n",
        "\n",
        "print(\n",
        "    f\"Environment with name {custom_job_env.name} is registered to workspace, the environment version is {custom_job_env.version}\"\n",
        ")"
      ],
      "outputs": [
        {
          "output_type": "stream",
          "name": "stdout",
          "text": "Environment with name aml-scikit-learn is registered to workspace, the environment version is 1\n"
        }
      ],
      "execution_count": 7,
      "metadata": {
        "jupyter": {
          "source_hidden": false,
          "outputs_hidden": false
        },
        "nteract": {
          "transient": {
            "deleting": false
          }
        },
        "gather": {
          "logged": 1701705601313
        }
      }
    },
    {
      "cell_type": "markdown",
      "source": [
        "Create training script"
      ],
      "metadata": {
        "nteract": {
          "transient": {
            "deleting": false
          }
        }
      }
    },
    {
      "cell_type": "code",
      "source": [
        "import os\n",
        "train_src_dir = \"./src\"\n",
        "os.makedirs(train_src_dir, exist_ok=True)"
      ],
      "outputs": [],
      "execution_count": 8,
      "metadata": {
        "jupyter": {
          "source_hidden": false,
          "outputs_hidden": false
        },
        "nteract": {
          "transient": {
            "deleting": false
          }
        },
        "gather": {
          "logged": 1701705601548
        }
      }
    },
    {
      "cell_type": "code",
      "source": [
        "%%writefile {train_src_dir}/main.py\n",
        "import os\n",
        "import argparse\n",
        "import pandas as pd\n",
        "import mlflow\n",
        "import mlflow.sklearn\n",
        "import nltk\n",
        "nltk.download('omw-1.4')\n",
        "nltk.download('wordnet')\n",
        "from sklearn.ensemble import GradientBoostingClassifier\n",
        "from sklearn.naive_bayes import GaussianNB\n",
        "from sklearn.metrics import classification_report\n",
        "#Cette classe est utilisée pour convertir une collection de documents bruts en une matrice de fonctionnalités TF-IDF\n",
        "from sklearn.feature_extraction.text import TfidfVectorizer\n",
        "#accuracy_score calcule la précision du modèle en comparant les étiquettes prédites aux véritables étiquettes\n",
        "#classification_report génère un rapport qui inclut la précision, le rappel, le score F1 et la prise en charge de chaque classe du problème de classification\n",
        "#confusion_matrix génère une matrice qui montre le nombre de vrais positifs, de faux positifs, de vrais négatifs et de faux négatifs pour chaque classe du problème de classification\n",
        "from sklearn.metrics import accuracy_score, classification_report, confusion_matrix #Ces fonctions sont utilisées pour évaluer les performances d'un modèle de classification\n",
        "#Cette fonction est utilisée pour diviser un ensemble de données en ensembles de formation et de test pour les modèles d'apprentissage automatique.\n",
        "from sklearn.model_selection import train_test_split\n",
        "#Cette classe est utilisée pour implémenter des classificateurs linéaires avec un entraînement par descente de gradient stochastique (SGD).\n",
        "from sklearn.linear_model import SGDClassifier\n",
        "#Cette classe est utilisée pour coder les caractéristiques\n",
        "# catégorielles sous forme d'entiers.\n",
        "from sklearn.preprocessing import LabelEncoder\n",
        "#Cette classe est utilisée pour lemmatiser les mots, qui est le processus de réduction des mots à leur forme de base ou dictionnaire.\n",
        "from nltk.stem import WordNetLemmatizer\n",
        "#Cette classe est utilisée pour effectuer un suréchantillonnage à l'aide de l'algorithme SMOTE (Synthetic Minority Over-sampling Technique).\n",
        "from imblearn.over_sampling import SMOTE\n",
        "# Le module fournit un ensemble de fonctions qui facilitent la création d'une variété de graphiques et de tracés en Python.\n",
        "import matplotlib.pyplot as plt\n",
        "# Seaborn est une bibliothèque de visualisation de données Python construite sur Matplotlib\n",
        "import seaborn as sns\n",
        "#Pandas est une bibliothèque Python populaire utilisée pour la manipulation et l'analyse de données\n",
        "import pandas as pd\n",
        "#NumPy est une bibliothèque de calcul scientifique construite sur le langage de programmation Python qui fournit un ensemble de fonctions\n",
        "#et de fonctionnalités de haut niveau pour effectuer l'analyse et la manipulation de données.\n",
        "import numpy as np\n",
        "# Est un module Python intégré utilisé pour travailler avec des expressions régulières.\n",
        "# Les expressions régulières sont un outil puissant pour la correspondance de modèles et la manipulation de texte,\n",
        "# et le module fournit un ensemble de fonctions et de classes pour travailler avec des expressions régulières en Python.\n",
        "import re\n",
        "# Est utilisé pour contrôler les messages d'avertissement.\n",
        "# Le module fournit un ensemble de fonctions et de classes pour filtrer, ignorer ou générer des messages d'avertissement dans le code Python.\n",
        "import warnings\n",
        "warnings.filterwarnings(\"ignore\")\n",
        "\n",
        "def main():\n",
        "    \"\"\"Main function of the script.\"\"\"\n",
        "\n",
        "    # input and output arguments\n",
        "    parser = argparse.ArgumentParser()\n",
        "    parser.add_argument(\"--data\", type=str, help=\"path to input data\")\n",
        "    parser.add_argument(\"--test_train_ratio\", type=float, required=False, default=0.3)\n",
        "    parser.add_argument(\"--n_estimators\", required=False, default=100, type=int)\n",
        "    parser.add_argument(\"--learning_rate\", required=False, default=0.1, type=float)\n",
        "    parser.add_argument(\"--registered_model_name\", type=str, help=\"model name\")\n",
        "    args = parser.parse_args()\n",
        "   \n",
        "    # Start Logging\n",
        "    mlflow.start_run()\n",
        "\n",
        "    # enable autologging\n",
        "    mlflow.sklearn.autolog()\n",
        "\n",
        "    ###################\n",
        "    #<prepare the data>\n",
        "    ###################\n",
        "    print(\" \".join(f\"{k}={v}\" for k, v in vars(args).items()))\n",
        "\n",
        "    print(\"input data:\", args.data)\n",
        "    \n",
        "    news = pd.read_csv(args.data)\n",
        "    print(news.columns)\n",
        "\n",
        "    mlflow.log_metric(\"num_rows\", news.shape[0])\n",
        "    mlflow.log_metric(\"num_columns\",news.shape[1])\n",
        "    chichewa = ['i', 'ine', 'wanga', 'inenso', 'ife', 'athu', 'athu', 'tokha', 'inu', 'ndinu','iwe ukhoza', 'wako','wekha','nokha','iye','wake','iyemwini','icho','ndi','zake','lokha','iwo','awo','iwowo','chiyani','amene', 'uyu', 'uyo', 'awa', \"ndili\", 'ndi', 'ali','anali','khalani','akhala','kukhala',' Khalani nawo','wakhala','anali','chitani','amachita','kuchita', 'a', 'an', 'pulogalamu ya', 'ndi', 'koma', 'ngati', 'kapena', 'chifukwa', 'monga', 'mpaka', 'pamene', 'wa', 'pa ',' by','chifukwa' 'ndi','pafupi','kutsutsana','pakati','kupyola','nthawi', 'nthawi','kale','pambuyo','pamwamba', 'pansipa', 'kuti', 'kuchokera', 'mmwamba', 'pansi', 'mu', 'kunja', 'kuyatsa', 'kuchoka', 'kutha', 'kachiwiri', 'kupitilira','kenako',' kamodzi','apa','apo','liti','pati','bwanji','onse','aliyense','onse','aliyense', 'ochepa', 'zambiri', 'ambiri', 'ena', 'otero', 'ayi', 'kapena', 'osati', 'okha', 'eni', 'omwewo', 'kotero',' kuposa','nawonso',' kwambiri','angathe','ndidzatero','basi','musatero', 'musachite',' muyenera', 'muyenera kukhala','tsopano', 'sali', 'sindinathe','​​sanachite','satero','analibe', 'sanatero','sanachite','sindinatero','ayi','si', 'ma', 'sizingatheke','mwina','sayenera', 'osowa','osafunikira', 'shan' , 'nenani', 'sayenera', 'sanali', 'anapambana', 'sangachite', 'sanakonde', 'sangatero']\n",
        "    wn = WordNetLemmatizer()\n",
        "    def text_preprocessing(review):\n",
        "        review = re.sub('[^a-zA-Z]', ' ', review)\n",
        "        review = review.lower()\n",
        "        review = review.split()\n",
        "        review = [wn.lemmatize(word) for word in review if not word in chichewa]\n",
        "        review = ' '.join(review)\n",
        "        return review\n",
        "        \n",
        "    news['Text'] = news['Text'].apply(text_preprocessing)\n",
        "\n",
        "    vectorizer = TfidfVectorizer()\n",
        "    X = vectorizer.fit_transform(news['Text']).toarray()\n",
        "    training = pd.DataFrame(X)\n",
        "\n",
        "    \n",
        "    X = training\n",
        "    y = news['Label']\n",
        "\n",
        "    label_encoder = LabelEncoder()\n",
        "    y_label = label_encoder.fit_transform(y)\n",
        "\n",
        "    smote = SMOTE()\n",
        "    X, y_label = smote.fit_resample(X,y_label)\n",
        "    np.bincount(y_label)\n",
        "\n",
        "\n",
        "    #Split train and test datasets\n",
        "    X_train, X_test, y_train, y_test = train_test_split(X, y_label, test_size=0.1, random_state=0)\n",
        "    ####################\n",
        "    #</prepare the data>\n",
        "    ####################\n",
        "\n",
        "    ##################\n",
        "    #<train the model>\n",
        "    ##################\n",
        "\n",
        "    # convert the dataframe values to array\n",
        "    X_train = X_train.values\n",
        "\n",
        "    # convert the dataframe values to array\n",
        "    X_test = X_test.values\n",
        "\n",
        "    print(f\"Training with data of shape {X_train.shape}\")\n",
        "\n",
        "    model = GaussianNB()\n",
        "    model.fit(X_train, y_train)\n",
        "\n",
        "    y_pred = model.predict(X_test)\n",
        "\n",
        "    print(classification_report(y_test, y_pred))\n",
        "\n",
        "    \n",
        "    test_pred = label_encoder.inverse_transform(y_pred)\n",
        "    test_label = label_encoder.inverse_transform(y_test)\n",
        "    cf_matrix = confusion_matrix(test_pred, test_label)\n",
        "    sns.heatmap(cf_matrix, annot=True)\n",
        "    ###################\n",
        "    #</train the model>\n",
        "    ###################\n",
        "\n",
        "    ##########################\n",
        "    #<save and register model>\n",
        "    ##########################\n",
        "    # Registering the model to the workspace\n",
        "    print(\"Registering the model via MLFlow\")\n",
        "    mlflow.sklearn.log_model(\n",
        "        sk_model=model,\n",
        "        registered_model_name=args.registered_model_name,\n",
        "        artifact_path=args.registered_model_name,\n",
        "    )\n",
        "\n",
        "    # Saving the model to a file\n",
        "    mlflow.sklearn.save_model(\n",
        "        sk_model=model,\n",
        "        path=os.path.join(args.registered_model_name, \"trained_model\"),\n",
        "    )\n",
        "    ###########################\n",
        "    #</save and register model>\n",
        "    ###########################\n",
        "    \n",
        "    # Stop Logging\n",
        "    mlflow.end_run()\n",
        "\n",
        "if __name__ == \"__main__\":\n",
        "    main()"
      ],
      "outputs": [
        {
          "output_type": "stream",
          "name": "stdout",
          "text": "Writing ./src/main.py\n"
        }
      ],
      "execution_count": 9,
      "metadata": {
        "jupyter": {
          "source_hidden": false,
          "outputs_hidden": false
        },
        "nteract": {
          "transient": {
            "deleting": false
          }
        }
      }
    },
    {
      "cell_type": "markdown",
      "source": [
        "Configure the command"
      ],
      "metadata": {
        "nteract": {
          "transient": {
            "deleting": false
          }
        }
      }
    },
    {
      "cell_type": "code",
      "source": [
        "from azure.ai.ml import command\n",
        "from azure.ai.ml import Input\n",
        "\n",
        "registered_model_name = \"chichewa_defaults_model\"\n",
        "\n",
        "job = command(\n",
        "    inputs=dict(\n",
        "        data=Input(\n",
        "            type=\"uri_file\",\n",
        "            path=\"Train.csv\",\n",
        "        ),\n",
        "        test_train_ratio=0.2,\n",
        "        learning_rate=0.25,\n",
        "        registered_model_name=registered_model_name,\n",
        "    ),\n",
        "    code=\"./src/\",  # location of source code\n",
        "    command=\"python main.py --data ${{inputs.data}} --test_train_ratio ${{inputs.test_train_ratio}} --learning_rate ${{inputs.learning_rate}} --registered_model_name ${{inputs.registered_model_name}}\",\n",
        "    environment=\"aml-scikit-learn@latest\",\n",
        "    display_name=\"chichewa_default_prediction\",\n",
        ")"
      ],
      "outputs": [],
      "execution_count": 10,
      "metadata": {
        "jupyter": {
          "source_hidden": false,
          "outputs_hidden": false
        },
        "nteract": {
          "transient": {
            "deleting": false
          }
        },
        "gather": {
          "logged": 1701705601961
        }
      }
    },
    {
      "cell_type": "markdown",
      "source": [
        "Submit the job"
      ],
      "metadata": {
        "nteract": {
          "transient": {
            "deleting": false
          }
        }
      }
    },
    {
      "cell_type": "code",
      "source": [
        "ml_client.create_or_update(job)"
      ],
      "outputs": [
        {
          "output_type": "stream",
          "name": "stderr",
          "text": "Class AutoDeleteSettingSchema: This is an experimental class, and may change at any time. Please see https://aka.ms/azuremlexperimental for more information.\nClass AutoDeleteConditionSchema: This is an experimental class, and may change at any time. Please see https://aka.ms/azuremlexperimental for more information.\nClass BaseAutoDeleteSettingSchema: This is an experimental class, and may change at any time. Please see https://aka.ms/azuremlexperimental for more information.\nClass IntellectualPropertySchema: This is an experimental class, and may change at any time. Please see https://aka.ms/azuremlexperimental for more information.\nClass ProtectionLevelSchema: This is an experimental class, and may change at any time. Please see https://aka.ms/azuremlexperimental for more information.\nClass BaseIntellectualPropertySchema: This is an experimental class, and may change at any time. Please see https://aka.ms/azuremlexperimental for more information.\n\u001b[32mUploading src (0.01 MBs): 100%|██████████| 7923/7923 [00:00<00:00, 820935.54it/s]\n\u001b[39m\n\n\u001b[32mUploading Train.csv\u001b[32m (< 1 MB): 100%|██████████| 3.16M/3.16M [00:00<00:00, 19.4MB/s]\n\u001b[39m\n\n"
        },
        {
          "output_type": "execute_result",
          "execution_count": 11,
          "data": {
            "text/plain": "Command({'parameters': {}, 'init': False, 'name': 'gentle_yak_7w951b305j', 'type': 'command', 'status': 'Starting', 'log_files': None, 'description': None, 'tags': {}, 'properties': {'_azureml.ComputeTargetType': 'amlctrain', 'ContentSnapshotId': '0c472cf7-bf74-4db7-b079-5f30adad88d1'}, 'print_as_yaml': True, 'id': '/subscriptions/2b635f7e-bdd3-49af-9129-9a0d8d7da646/resourceGroups/groupe_ressource_groupe2/providers/Microsoft.MachineLearningServices/workspaces/workspace_nlp_groupe2/jobs/gentle_yak_7w951b305j', 'Resource__source_path': None, 'base_path': '/mnt/batch/tasks/shared/LS_root/mounts/clusters/clustergroupe2/code/Users/fama.coundoul/projet_nlp_2023_groupe2', 'creation_context': <azure.ai.ml.entities._system_data.SystemData object at 0x7f5e9e122830>, 'serialize': <msrest.serialization.Serializer object at 0x7f5e9dd63d30>, 'allowed_keys': {}, 'key_restriction': False, 'logger': <Logger attr_dict (WARNING)>, 'display_name': 'chichewa_default_prediction', 'experiment_name': 'projet_nlp_2023_groupe2', 'compute': None, 'services': {'Tracking': {'endpoint': 'azureml://westus3.api.azureml.ms/mlflow/v1.0/subscriptions/2b635f7e-bdd3-49af-9129-9a0d8d7da646/resourceGroups/groupe_ressource_groupe2/providers/Microsoft.MachineLearningServices/workspaces/workspace_nlp_groupe2?', 'type': 'Tracking'}, 'Studio': {'endpoint': 'https://ml.azure.com/runs/gentle_yak_7w951b305j?wsid=/subscriptions/2b635f7e-bdd3-49af-9129-9a0d8d7da646/resourcegroups/groupe_ressource_groupe2/workspaces/workspace_nlp_groupe2&tid=991051f8-f55d-4e95-a632-64365e3fb4a3', 'type': 'Studio'}}, 'comment': None, 'job_inputs': {'data': {'type': 'uri_file', 'path': 'azureml://datastores/workspaceblobstore/paths/LocalUpload/0097b274ac00bc1183e5ce4d2710151a/Train.csv', 'mode': 'ro_mount'}, 'test_train_ratio': '0.2', 'learning_rate': '0.25', 'registered_model_name': 'chichewa_defaults_model'}, 'job_outputs': {'default': {'type': 'uri_folder', 'path': 'azureml://datastores/workspaceartifactstore/ExperimentRun/dcid.gentle_yak_7w951b305j', 'mode': 'rw_mount'}}, 'inputs': {'data': <azure.ai.ml.entities._job.pipeline._io.base.NodeInput object at 0x7f5e9dd63010>, 'test_train_ratio': <azure.ai.ml.entities._job.pipeline._io.base.NodeInput object at 0x7f5e9dd62ce0>, 'learning_rate': <azure.ai.ml.entities._job.pipeline._io.base.NodeInput object at 0x7f5e9dda8cd0>, 'registered_model_name': <azure.ai.ml.entities._job.pipeline._io.base.NodeInput object at 0x7f5e9ddcb580>}, 'outputs': {'default': <azure.ai.ml.entities._job.pipeline._io.base.NodeOutput object at 0x7f5e9ddc9c30>}, 'component': CommandComponent({'intellectual_property': None, 'auto_increment_version': True, 'source': 'REMOTE.WORKSPACE.JOB', 'is_anonymous': False, 'auto_delete_setting': None, 'name': 'gentle_yak_7w951b305j', 'description': None, 'tags': {}, 'properties': {}, 'print_as_yaml': True, 'id': None, 'Resource__source_path': None, 'base_path': PosixPath('.'), 'creation_context': <azure.ai.ml.entities._system_data.SystemData object at 0x7f5e9e122830>, 'serialize': <msrest.serialization.Serializer object at 0x7f5e9dd63d90>, 'command': 'python main.py --data ${{inputs.data}} --test_train_ratio ${{inputs.test_train_ratio}} --learning_rate ${{inputs.learning_rate}} --registered_model_name ${{inputs.registered_model_name}}', 'code': '/subscriptions/2b635f7e-bdd3-49af-9129-9a0d8d7da646/resourceGroups/groupe_ressource_groupe2/providers/Microsoft.MachineLearningServices/workspaces/workspace_nlp_groupe2/codes/9bb3c709-3537-4ddb-bb1d-515f499ca97e/versions/1', 'environment_variables': {}, 'environment': '/subscriptions/2b635f7e-bdd3-49af-9129-9a0d8d7da646/resourceGroups/groupe_ressource_groupe2/providers/Microsoft.MachineLearningServices/workspaces/workspace_nlp_groupe2/environments/aml-scikit-learn/versions/1', 'distribution': None, 'resources': None, 'queue_settings': None, 'version': None, 'latest_version': None, 'schema': None, 'type': 'command', 'display_name': 'chichewa_default_prediction', 'is_deterministic': True, 'inputs': {'data': {'type': 'uri_file', 'path': 'azureml://datastores/workspaceblobstore/paths/LocalUpload/0097b274ac00bc1183e5ce4d2710151a/Train.csv', 'mode': 'ro_mount'}, 'test_train_ratio': {'type': 'string', 'default': '0.2'}, 'learning_rate': {'type': 'string', 'default': '0.25'}, 'registered_model_name': {'type': 'string', 'default': 'chichewa_defaults_model'}}, 'outputs': {'default': {'type': 'uri_folder', 'path': 'azureml://datastores/workspaceartifactstore/ExperimentRun/dcid.gentle_yak_7w951b305j', 'mode': 'rw_mount'}}, 'yaml_str': None, 'other_parameter': {'status': 'Starting', 'parameters': {}}, 'additional_includes': [], 'CommandComponent__additional_includes_obj': None}), 'referenced_control_flow_node_instance_id': None, 'kwargs': {'services': {'Tracking': {'endpoint': 'azureml://westus3.api.azureml.ms/mlflow/v1.0/subscriptions/2b635f7e-bdd3-49af-9129-9a0d8d7da646/resourceGroups/groupe_ressource_groupe2/providers/Microsoft.MachineLearningServices/workspaces/workspace_nlp_groupe2?', 'type': 'Tracking'}, 'Studio': {'endpoint': 'https://ml.azure.com/runs/gentle_yak_7w951b305j?wsid=/subscriptions/2b635f7e-bdd3-49af-9129-9a0d8d7da646/resourcegroups/groupe_ressource_groupe2/workspaces/workspace_nlp_groupe2&tid=991051f8-f55d-4e95-a632-64365e3fb4a3', 'type': 'Studio'}}, 'status': 'Starting', 'creation_context': <azure.ai.ml.entities._system_data.SystemData object at 0x7f5e9e122830>}, 'instance_id': '515adf97-8d07-4848-9114-6cde3ecf585b', 'source': 'BUILDER', 'validate_required_input_not_provided': True, 'limits': None, 'identity': None, 'distribution': None, 'environment_variables': {}, 'environment': 'aml-scikit-learn:1', 'resources': {'instance_count': 1, 'shm_size': '2g'}, 'queue_settings': {'job_tier': 'standard'}, 'swept': False})",
            "text/html": "<table style=\"width:100%\"><tr><th>Experiment</th><th>Name</th><th>Type</th><th>Status</th><th>Details Page</th></tr><tr><td>projet_nlp_2023_groupe2</td><td>gentle_yak_7w951b305j</td><td>command</td><td>Starting</td><td><a href=\"https://ml.azure.com/runs/gentle_yak_7w951b305j?wsid=/subscriptions/2b635f7e-bdd3-49af-9129-9a0d8d7da646/resourcegroups/groupe_ressource_groupe2/workspaces/workspace_nlp_groupe2&amp;tid=991051f8-f55d-4e95-a632-64365e3fb4a3\" target=\"_blank\" rel=\"noopener\">Link to Azure Machine Learning studio</a></td></tr></table>"
          },
          "metadata": {}
        }
      ],
      "execution_count": 11,
      "metadata": {
        "jupyter": {
          "source_hidden": false,
          "outputs_hidden": false
        },
        "nteract": {
          "transient": {
            "deleting": false
          }
        },
        "gather": {
          "logged": 1701705608482
        }
      }
    },
    {
      "cell_type": "markdown",
      "source": [
        "## **Deploy a model as an online endpoint**"
      ],
      "metadata": {
        "nteract": {
          "transient": {
            "deleting": false
          }
        }
      }
    },
    {
      "cell_type": "markdown",
      "source": [
        "Register the model"
      ],
      "metadata": {
        "nteract": {
          "transient": {
            "deleting": false
          }
        }
      }
    },
    {
      "cell_type": "code",
      "source": [
        "# Import the necessary libraries\n",
        "from azure.ai.ml.entities import Model\n",
        "from azure.ai.ml.constants import AssetTypes\n",
        "\n",
        "# Provide the model details, including the\n",
        "# path to the model files, if you've stored them locally.\n",
        "mlflow_model = Model(\n",
        "    path=\"./deploy/chichewa_defaults_model/\",\n",
        "    type=AssetTypes.MLFLOW_MODEL,\n",
        "    name=\"chichewa_defaults_model\",\n",
        "    description=\"MLflow Model created from local files.\",\n",
        ")\n",
        "\n",
        "# Register the model\n",
        "ml_client.models.create_or_update(mlflow_model)"
      ],
      "outputs": [
        {
          "output_type": "stream",
          "name": "stderr",
          "text": "\r\u001b[32mUploading chichewa_defaults_model (0.12 MBs):   0%|          | 0/122845 [00:00<?, ?it/s]\r\u001b[32mUploading chichewa_defaults_model (0.12 MBs):   1%|          | 832/122845 [00:00<00:14, 8259.90it/s]\r\u001b[32mUploading chichewa_defaults_model (0.12 MBs): 100%|██████████| 122845/122845 [00:00<00:00, 1134997.80it/s]\n\u001b[39m\n\n"
        },
        {
          "output_type": "execute_result",
          "execution_count": 12,
          "data": {
            "text/plain": "Model({'job_name': None, 'intellectual_property': None, 'is_anonymous': False, 'auto_increment_version': False, 'auto_delete_setting': None, 'name': 'chichewa_defaults_model', 'description': 'MLflow Model created from local files.', 'tags': {}, 'properties': {}, 'print_as_yaml': True, 'id': '/subscriptions/2b635f7e-bdd3-49af-9129-9a0d8d7da646/resourceGroups/groupe_ressource_groupe2/providers/Microsoft.MachineLearningServices/workspaces/workspace_nlp_groupe2/models/chichewa_defaults_model/versions/1', 'Resource__source_path': None, 'base_path': '/mnt/batch/tasks/shared/LS_root/mounts/clusters/clustergroupe2/code/Users/fama.coundoul/projet_nlp_2023_groupe2', 'creation_context': <azure.ai.ml.entities._system_data.SystemData object at 0x7f5e9dda8880>, 'serialize': <msrest.serialization.Serializer object at 0x7f5e9ddd8550>, 'version': '1', 'latest_version': None, 'path': 'azureml://subscriptions/2b635f7e-bdd3-49af-9129-9a0d8d7da646/resourceGroups/groupe_ressource_groupe2/workspaces/workspace_nlp_groupe2/datastores/workspaceblobstore/paths/LocalUpload/828f77364b92b91752532491558fcc0c/chichewa_defaults_model', 'datastore': None, 'utc_time_created': None, 'flavors': {'python_function': {'env': 'conda.yaml', 'loader_module': 'mlflow.sklearn', 'model_path': 'model.pkl', 'python_version': '3.8.15'}, 'sklearn': {'code': '', 'pickled_model': 'model.pkl', 'serialization_format': 'cloudpickle', 'sklearn_version': '0.24.2'}}, 'arm_type': 'model_version', 'type': 'mlflow_model', 'stage': 'Development'})"
          },
          "metadata": {}
        }
      ],
      "execution_count": 12,
      "metadata": {
        "jupyter": {
          "source_hidden": false,
          "outputs_hidden": false
        },
        "nteract": {
          "transient": {
            "deleting": false
          }
        },
        "gather": {
          "logged": 1701705611786
        }
      }
    },
    {
      "cell_type": "code",
      "source": [
        "# Let's pick the latest version of the model\n",
        "latest_model_version = max(\n",
        "    [int(m.version) for m in ml_client.models.list(name=registered_model_name)]\n",
        ")\n",
        "\n",
        "print(latest_model_version)"
      ],
      "outputs": [
        {
          "output_type": "stream",
          "name": "stdout",
          "text": "1\n"
        }
      ],
      "execution_count": 13,
      "metadata": {
        "jupyter": {
          "source_hidden": false,
          "outputs_hidden": false
        },
        "nteract": {
          "transient": {
            "deleting": false
          }
        },
        "gather": {
          "logged": 1701705612105
        }
      }
    },
    {
      "cell_type": "markdown",
      "source": [
        "Endpoints and deployments"
      ],
      "metadata": {
        "nteract": {
          "transient": {
            "deleting": false
          }
        }
      }
    },
    {
      "cell_type": "markdown",
      "source": [
        "Create an online endpoint"
      ],
      "metadata": {
        "nteract": {
          "transient": {
            "deleting": false
          }
        }
      }
    },
    {
      "cell_type": "code",
      "source": [
        "import uuid\n",
        "\n",
        "# Create a unique name for the endpoint\n",
        "online_endpoint_name = \"chichewa-endpoint-\" + str(uuid.uuid4())[:8]"
      ],
      "outputs": [],
      "execution_count": 14,
      "metadata": {
        "jupyter": {
          "source_hidden": false,
          "outputs_hidden": false
        },
        "nteract": {
          "transient": {
            "deleting": false
          }
        },
        "gather": {
          "logged": 1701705612603
        }
      }
    },
    {
      "cell_type": "code",
      "source": [
        "from azure.ai.ml.entities import ManagedOnlineEndpoint\n",
        "\n",
        "# define an online endpoint\n",
        "endpoint = ManagedOnlineEndpoint(\n",
        "    name=online_endpoint_name,\n",
        "    description=\"this is an online endpoint\",\n",
        "    auth_mode=\"key\",\n",
        "    tags={\n",
        "        \"training_dataset\": \"chichewa_defaults\",\n",
        "    },\n",
        ")"
      ],
      "outputs": [],
      "execution_count": 15,
      "metadata": {
        "jupyter": {
          "source_hidden": false,
          "outputs_hidden": false
        },
        "nteract": {
          "transient": {
            "deleting": false
          }
        },
        "gather": {
          "logged": 1701705612846
        }
      }
    },
    {
      "cell_type": "code",
      "source": [
        "# create the online endpoint\n",
        "# expect the endpoint to take approximately 2 minutes.\n",
        "\n",
        "endpoint = ml_client.online_endpoints.begin_create_or_update(endpoint).result()"
      ],
      "outputs": [],
      "execution_count": 16,
      "metadata": {
        "jupyter": {
          "source_hidden": false,
          "outputs_hidden": false
        },
        "nteract": {
          "transient": {
            "deleting": false
          }
        },
        "gather": {
          "logged": 1701705709303
        }
      }
    },
    {
      "cell_type": "code",
      "source": [
        "endpoint = ml_client.online_endpoints.get(name=online_endpoint_name)\n",
        "\n",
        "print(\n",
        "    f'Endpoint \"{endpoint.name}\" with provisioning state \"{endpoint.provisioning_state}\" is retrieved'\n",
        ")"
      ],
      "outputs": [
        {
          "output_type": "stream",
          "name": "stdout",
          "text": "Endpoint \"chichewa-endpoint-97ce6c6d\" with provisioning state \"Succeeded\" is retrieved\n"
        }
      ],
      "execution_count": 17,
      "metadata": {
        "jupyter": {
          "source_hidden": false,
          "outputs_hidden": false
        },
        "nteract": {
          "transient": {
            "deleting": false
          }
        },
        "gather": {
          "logged": 1701705709954
        }
      }
    },
    {
      "cell_type": "markdown",
      "source": [
        "Deployment using an MLflow model"
      ],
      "metadata": {
        "nteract": {
          "transient": {
            "deleting": false
          }
        }
      }
    },
    {
      "cell_type": "markdown",
      "source": [
        "Deploy the model to the endpoint"
      ],
      "metadata": {
        "nteract": {
          "transient": {
            "deleting": false
          }
        }
      }
    },
    {
      "cell_type": "code",
      "source": [
        "from azure.ai.ml.entities import ManagedOnlineDeployment\n",
        "\n",
        "# Choose the latest version of our registered model for deployment\n",
        "model = ml_client.models.get(name=registered_model_name, version=latest_model_version)\n",
        "\n",
        "# define an online deployment\n",
        "# if you run into an out of quota error, change the instance_type to a comparable VM that is available.\\\n",
        "# Learn more on https://azure.microsoft.com/en-us/pricing/details/machine-learning/.\n",
        "chichewa_deployment = ManagedOnlineDeployment(\n",
        "    name=\"chichewa\",\n",
        "    endpoint_name=online_endpoint_name,\n",
        "    model=model,\n",
        "    instance_type=\"Standard_F4s_v2\",\n",
        "    instance_count=1,\n",
        ")"
      ],
      "outputs": [],
      "execution_count": 18,
      "metadata": {
        "jupyter": {
          "source_hidden": false,
          "outputs_hidden": false
        },
        "nteract": {
          "transient": {
            "deleting": false
          }
        },
        "gather": {
          "logged": 1701705710198
        }
      }
    },
    {
      "cell_type": "code",
      "source": [
        "# create the online deployment\n",
        "chichewa_deployment = ml_client.online_deployments.begin_create_or_update(chichewa_deployment).result()\n",
        "\n",
        "# blue deployment takes 100% traffic\n",
        "# expect the deployment to take approximately 8 to 10 minutes.\n",
        "endpoint.traffic = {\"chichewa\": 100}\n",
        "ml_client.online_endpoints.begin_create_or_update(endpoint).result()"
      ],
      "outputs": [
        {
          "output_type": "stream",
          "name": "stderr",
          "text": "Check: endpoint chichewa-endpoint-97ce6c6d exists\nReadonly attribute principal_id will be ignored in class <class 'azure.ai.ml._restclient.v2022_05_01.models._models_py3.ManagedServiceIdentity'>\nReadonly attribute tenant_id will be ignored in class <class 'azure.ai.ml._restclient.v2022_05_01.models._models_py3.ManagedServiceIdentity'>\n"
        },
        {
          "output_type": "stream",
          "name": "stdout",
          "text": "............................................................................................"
        },
        {
          "output_type": "execute_result",
          "execution_count": 19,
          "data": {
            "text/plain": "ManagedOnlineEndpoint({'public_network_access': 'Enabled', 'provisioning_state': 'Succeeded', 'scoring_uri': 'https://chichewa-endpoint-97ce6c6d.westus3.inference.ml.azure.com/score', 'openapi_uri': 'https://chichewa-endpoint-97ce6c6d.westus3.inference.ml.azure.com/swagger.json', 'name': 'chichewa-endpoint-97ce6c6d', 'description': 'this is an online endpoint', 'tags': {'training_dataset': 'chichewa_defaults'}, 'properties': {'azureml.onlineendpointid': '/subscriptions/2b635f7e-bdd3-49af-9129-9a0d8d7da646/resourcegroups/groupe_ressource_groupe2/providers/microsoft.machinelearningservices/workspaces/workspace_nlp_groupe2/onlineendpoints/chichewa-endpoint-97ce6c6d', 'AzureAsyncOperationUri': 'https://management.azure.com/subscriptions/2b635f7e-bdd3-49af-9129-9a0d8d7da646/providers/Microsoft.MachineLearningServices/locations/westus3/mfeOperationsStatus/oe:4bf28531-1e1d-4933-ae53-b53f06f404ff:ecc7df4c-18a3-40b1-88ce-b376868fe45a?api-version=2022-02-01-preview'}, 'print_as_yaml': True, 'id': '/subscriptions/2b635f7e-bdd3-49af-9129-9a0d8d7da646/resourceGroups/groupe_ressource_groupe2/providers/Microsoft.MachineLearningServices/workspaces/workspace_nlp_groupe2/onlineEndpoints/chichewa-endpoint-97ce6c6d', 'Resource__source_path': None, 'base_path': '/mnt/batch/tasks/shared/LS_root/mounts/clusters/clustergroupe2/code/Users/fama.coundoul/projet_nlp_2023_groupe2', 'creation_context': None, 'serialize': <msrest.serialization.Serializer object at 0x7f5e9ddd9b10>, 'auth_mode': 'key', 'location': 'westus3', 'identity': <azure.ai.ml.entities._credentials.IdentityConfiguration object at 0x7f5e9ddd8fd0>, 'traffic': {'chichewa': 100}, 'mirror_traffic': {}, 'kind': 'Managed'})"
          },
          "metadata": {}
        }
      ],
      "execution_count": 19,
      "metadata": {
        "jupyter": {
          "source_hidden": false,
          "outputs_hidden": false
        },
        "nteract": {
          "transient": {
            "deleting": false
          }
        },
        "gather": {
          "logged": 1701706234982
        }
      }
    },
    {
      "cell_type": "markdown",
      "source": [
        "Vérifier l'état du point de terminaison"
      ],
      "metadata": {
        "nteract": {
          "transient": {
            "deleting": false
          }
        }
      }
    },
    {
      "cell_type": "code",
      "source": [
        "# return an object that contains metadata for the endpoint\n",
        "endpoint = ml_client.online_endpoints.get(name=online_endpoint_name)\n",
        "\n",
        "# print a selection of the endpoint's metadata\n",
        "print(\n",
        "    f\"Name: {endpoint.name}\\nStatus: {endpoint.provisioning_state}\\nDescription: {endpoint.description}\"\n",
        ")"
      ],
      "outputs": [
        {
          "output_type": "stream",
          "name": "stdout",
          "text": "Name: chichewa-endpoint-97ce6c6d\nStatus: Succeeded\nDescription: this is an online endpoint\n"
        }
      ],
      "execution_count": 20,
      "metadata": {
        "jupyter": {
          "source_hidden": false,
          "outputs_hidden": false
        },
        "nteract": {
          "transient": {
            "deleting": false
          }
        },
        "gather": {
          "logged": 1701706235708
        }
      }
    },
    {
      "cell_type": "code",
      "source": [
        "# existing traffic details\n",
        "print(endpoint.traffic)\n",
        "\n",
        "# Get the scoring URI\n",
        "print(endpoint.scoring_uri)"
      ],
      "outputs": [
        {
          "output_type": "stream",
          "name": "stdout",
          "text": "{'chichewa': 100}\nhttps://chichewa-endpoint-97ce6c6d.westus3.inference.ml.azure.com/score\n"
        }
      ],
      "execution_count": 21,
      "metadata": {
        "jupyter": {
          "source_hidden": false,
          "outputs_hidden": false
        },
        "nteract": {
          "transient": {
            "deleting": false
          }
        },
        "gather": {
          "logged": 1701706235944
        }
      }
    },
    {
      "cell_type": "code",
      "source": [],
      "outputs": [],
      "execution_count": null,
      "metadata": {
        "jupyter": {
          "source_hidden": false,
          "outputs_hidden": false
        },
        "nteract": {
          "transient": {
            "deleting": false
          }
        }
      }
    },
    {
      "cell_type": "code",
      "source": [
        "import pandas as pd\n",
        "news=pd.read_csv(\"Train.csv\")\n",
        "len(news['Text'])"
      ],
      "outputs": [
        {
          "output_type": "execute_result",
          "execution_count": 22,
          "data": {
            "text/plain": "1436"
          },
          "metadata": {}
        }
      ],
      "execution_count": 22,
      "metadata": {
        "jupyter": {
          "source_hidden": false,
          "outputs_hidden": false
        },
        "nteract": {
          "transient": {
            "deleting": false
          }
        },
        "gather": {
          "logged": 1701706239661
        }
      }
    },
    {
      "cell_type": "code",
      "source": [
        "news.shape[0]"
      ],
      "outputs": [
        {
          "output_type": "execute_result",
          "execution_count": 30,
          "data": {
            "text/plain": "1436"
          },
          "metadata": {}
        }
      ],
      "execution_count": 30,
      "metadata": {
        "jupyter": {
          "source_hidden": false,
          "outputs_hidden": false
        },
        "nteract": {
          "transient": {
            "deleting": false
          }
        },
        "gather": {
          "logged": 1701654501095
        }
      }
    },
    {
      "cell_type": "code",
      "source": [
        "news"
      ],
      "outputs": [
        {
          "output_type": "execute_result",
          "execution_count": 33,
          "data": {
            "text/plain": "               ID                                               Text  \\\n1     ID_AGoFySzn   MCP siidakhutire ndi kalembera Chipani cha Ma...   \n2     ID_AGrrkBGP  Bungwe la MANEPO Lapempha Boma Liganizire Anth...   \n3     ID_AIJeigeG   Ndale zogawanitsa miyambo zanyanya Si zachile...   \n4     ID_APMprMbV   Nanga wapolisi ataphofomoka? Masiku ano sichi...   \n5     ID_ARZdpinF   Kusamvetsetsana kwabuka ku Mwanza Kusamvetset...   \n...           ...                                                ...   \n1431  ID_zmTmmEio  Eni Minibus Ati Ali ndi Ufulu Wokweza Mitengo ...   \n1432  ID_znOlIaGQ   Kachali apepesa: Kulankhula motumbwa kuthe An...   \n1433  ID_znracTjN   Mawu supports non-fiction writers The Malawi ...   \n1434  ID_ztdsmmva   Tame Mwawa: Phwete ndiye kudya kwake Sewero l...   \n1435  ID_zteydTpN   PAC iunguza za boma la chifedulo Nthumwi zomw...   \n\n              Label  \n1          POLITICS  \n2            HEALTH  \n3          POLITICS  \n4         LAW/ORDER  \n5         LAW/ORDER  \n...             ...  \n1431      TRANSPORT  \n1432       POLITICS  \n1433      EDUCATION  \n1434  SOCIAL ISSUES  \n1435       POLITICS  \n\n[1435 rows x 3 columns]",
            "text/html": "<div>\n<style scoped>\n    .dataframe tbody tr th:only-of-type {\n        vertical-align: middle;\n    }\n\n    .dataframe tbody tr th {\n        vertical-align: top;\n    }\n\n    .dataframe thead th {\n        text-align: right;\n    }\n</style>\n<table border=\"1\" class=\"dataframe\">\n  <thead>\n    <tr style=\"text-align: right;\">\n      <th></th>\n      <th>ID</th>\n      <th>Text</th>\n      <th>Label</th>\n    </tr>\n  </thead>\n  <tbody>\n    <tr>\n      <th>1</th>\n      <td>ID_AGoFySzn</td>\n      <td>MCP siidakhutire ndi kalembera Chipani cha Ma...</td>\n      <td>POLITICS</td>\n    </tr>\n    <tr>\n      <th>2</th>\n      <td>ID_AGrrkBGP</td>\n      <td>Bungwe la MANEPO Lapempha Boma Liganizire Anth...</td>\n      <td>HEALTH</td>\n    </tr>\n    <tr>\n      <th>3</th>\n      <td>ID_AIJeigeG</td>\n      <td>Ndale zogawanitsa miyambo zanyanya Si zachile...</td>\n      <td>POLITICS</td>\n    </tr>\n    <tr>\n      <th>4</th>\n      <td>ID_APMprMbV</td>\n      <td>Nanga wapolisi ataphofomoka? Masiku ano sichi...</td>\n      <td>LAW/ORDER</td>\n    </tr>\n    <tr>\n      <th>5</th>\n      <td>ID_ARZdpinF</td>\n      <td>Kusamvetsetsana kwabuka ku Mwanza Kusamvetset...</td>\n      <td>LAW/ORDER</td>\n    </tr>\n    <tr>\n      <th>...</th>\n      <td>...</td>\n      <td>...</td>\n      <td>...</td>\n    </tr>\n    <tr>\n      <th>1431</th>\n      <td>ID_zmTmmEio</td>\n      <td>Eni Minibus Ati Ali ndi Ufulu Wokweza Mitengo ...</td>\n      <td>TRANSPORT</td>\n    </tr>\n    <tr>\n      <th>1432</th>\n      <td>ID_znOlIaGQ</td>\n      <td>Kachali apepesa: Kulankhula motumbwa kuthe An...</td>\n      <td>POLITICS</td>\n    </tr>\n    <tr>\n      <th>1433</th>\n      <td>ID_znracTjN</td>\n      <td>Mawu supports non-fiction writers The Malawi ...</td>\n      <td>EDUCATION</td>\n    </tr>\n    <tr>\n      <th>1434</th>\n      <td>ID_ztdsmmva</td>\n      <td>Tame Mwawa: Phwete ndiye kudya kwake Sewero l...</td>\n      <td>SOCIAL ISSUES</td>\n    </tr>\n    <tr>\n      <th>1435</th>\n      <td>ID_zteydTpN</td>\n      <td>PAC iunguza za boma la chifedulo Nthumwi zomw...</td>\n      <td>POLITICS</td>\n    </tr>\n  </tbody>\n</table>\n<p>1435 rows × 3 columns</p>\n</div>"
          },
          "metadata": {}
        }
      ],
      "execution_count": 33,
      "metadata": {
        "jupyter": {
          "source_hidden": false,
          "outputs_hidden": false
        },
        "nteract": {
          "transient": {
            "deleting": false
          }
        },
        "gather": {
          "logged": 1701654691172
        }
      }
    },
    {
      "cell_type": "code",
      "source": [],
      "outputs": [],
      "execution_count": null,
      "metadata": {
        "jupyter": {
          "source_hidden": false,
          "outputs_hidden": false
        },
        "nteract": {
          "transient": {
            "deleting": false
          }
        }
      }
    },
    {
      "cell_type": "code",
      "source": [],
      "outputs": [],
      "execution_count": null,
      "metadata": {
        "jupyter": {
          "source_hidden": false,
          "outputs_hidden": false
        },
        "nteract": {
          "transient": {
            "deleting": false
          }
        }
      }
    },
    {
      "cell_type": "code",
      "source": [],
      "outputs": [],
      "execution_count": null,
      "metadata": {
        "jupyter": {
          "source_hidden": false,
          "outputs_hidden": false
        },
        "nteract": {
          "transient": {
            "deleting": false
          }
        }
      }
    },
    {
      "cell_type": "code",
      "source": [],
      "outputs": [],
      "execution_count": null,
      "metadata": {
        "jupyter": {
          "source_hidden": false,
          "outputs_hidden": false
        },
        "nteract": {
          "transient": {
            "deleting": false
          }
        }
      }
    },
    {
      "cell_type": "code",
      "source": [],
      "outputs": [],
      "execution_count": null,
      "metadata": {
        "jupyter": {
          "source_hidden": false,
          "outputs_hidden": false
        },
        "nteract": {
          "transient": {
            "deleting": false
          }
        }
      }
    },
    {
      "cell_type": "code",
      "source": [],
      "outputs": [],
      "execution_count": null,
      "metadata": {
        "jupyter": {
          "source_hidden": false,
          "outputs_hidden": false
        },
        "nteract": {
          "transient": {
            "deleting": false
          }
        }
      }
    },
    {
      "cell_type": "code",
      "source": [],
      "outputs": [],
      "execution_count": null,
      "metadata": {
        "jupyter": {
          "source_hidden": false,
          "outputs_hidden": false
        },
        "nteract": {
          "transient": {
            "deleting": false
          }
        }
      }
    }
  ],
  "metadata": {
    "kernelspec": {
      "name": "python310-sdkv2",
      "language": "python",
      "display_name": "Python 3.10 - SDK v2"
    },
    "language_info": {
      "name": "python",
      "version": "3.10.11",
      "mimetype": "text/x-python",
      "codemirror_mode": {
        "name": "ipython",
        "version": 3
      },
      "pygments_lexer": "ipython3",
      "nbconvert_exporter": "python",
      "file_extension": ".py"
    },
    "microsoft": {
      "ms_spell_check": {
        "ms_spell_check_language": "fr"
      },
      "host": {
        "AzureML": {
          "notebookHasBeenCompleted": true
        }
      }
    },
    "kernel_info": {
      "name": "python310-sdkv2"
    },
    "nteract": {
      "version": "nteract-front-end@1.0.0"
    }
  },
  "nbformat": 4,
  "nbformat_minor": 2
}